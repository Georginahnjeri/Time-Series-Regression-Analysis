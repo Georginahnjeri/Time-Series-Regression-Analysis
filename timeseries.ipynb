{
 "cells": [
  {
   "cell_type": "markdown",
   "metadata": {},
   "source": [
    "# Time Series Regression analysis for Corporation Favorita "
   ]
  },
  {
   "cell_type": "markdown",
   "metadata": {},
   "source": [
    "In this project I will be assuming a role of a data scientist in Corporation Favorita, a large Ecuadorian-based grocery retailer. Corporation Favorita wants to ensure that they always have the right quantity of products in stock. To do this i have decided to build a series of machine learning models to forecast the demand of products in various locations. The marketing and sales team have provided some data to aid this endeavor. I will be using CRISP-DM Framework for this project."
   ]
  },
  {
   "cell_type": "markdown",
   "metadata": {},
   "source": [
    "## Business Understanding"
   ]
  },
  {
   "cell_type": "markdown",
   "metadata": {},
   "source": [
    "\n",
    "It has always been a problem for companies to determine the right level of stock to have. There are a lot of factors to consider when it comes to stocking: lead times, cost of transportation, cost of warehousing, product lifespan and others.\n",
    "\n",
    "Company's want to know the best level of stock to have in order to be able to satisfy customers demand whilst spend the lease possible amount on the stock.\n",
    "\n",
    "Stock is company resources (money) held up, it is therefore prudent to be able to determine the right level of stock to hold. Policies like JIT(Just in time) and EOQ(Economic order quantities) have been utilised to manage stock levels.\n",
    "\n",
    "Overstocking can lead to: locked up funds that could be used for other projects, expiry of goods, large/special warehouse spaces (which is costly), retailers like Favorita sometimes have to reduce prices of near-expiry products to cut down on losses. Some dangers of under-stocking could include disatisfied customers (which may lead to them voting with their feet), decrease in revenue, companies may also end up spending more on logistics when they understock frequently.\n",
    "\n",
    "In this project we will be using machine learning and regression models to forecast sales which would help us determine stock levels to hold, the company believes this would be a more accurate policy since it is based on a large dataset of previous sales.\n"
   ]
  },
  {
   "cell_type": "markdown",
   "metadata": {},
   "source": [
    "## Research questions\n",
    "\n",
    "1. Is the train dataset complete (has all the required dates)?\n",
    "2. Which dates have the lowest and highest sales for each year (excluding days the store was closed)?\n",
    "3. Did the earthquake impact sales?\n",
    "4. Are certain stores or groups of stores selling more products? (Cluster, city, state, type)\n",
    "5. Are sales affected by promotions, oil prices and holidays?\n",
    "6. What analysis can we get from the date and its extractable features?\n",
    "7. Which product family and stores did the promotions affect.\n",
    "8. What is the difference between RMSLE, RMSE, MSE (or why is the MAE greater than all of them?)\n",
    "9. Does the payment of wages in the public sector on the 15th and last days of the month influence the store sales.\n",
    "10. Compare the sales for each month across the years and determine which month of which year had the highest sales."
   ]
  },
  {
   "cell_type": "markdown",
   "metadata": {},
   "source": [
    "## Hypothesis\n",
    "\n",
    "Null Hypothesis (H0): \"There is no significant relationship between store sales and product promotions.\"\n",
    "\n",
    "Alternative Hypothesis (Ha): \"There is a significant relationship between store sales and product promotions.\""
   ]
  },
  {
   "cell_type": "code",
   "execution_count": null,
   "metadata": {},
   "outputs": [],
   "source": [
    "#importing packages\n",
    "import pyodbc \n",
    "#import the dotenv_values function from the dotenv package    \n",
    "from dotenv import dotenv_values \n",
    "import pandas as pd\n",
    "import warnings \n",
    "import sklearn\n",
    "import matplotlib.pyplot as plt\n",
    "import seaborn as sns\n",
    "import pandas as pd\n"
   ]
  }
 ],
 "metadata": {
  "kernelspec": {
   "display_name": "venv",
   "language": "python",
   "name": "python3"
  },
  "language_info": {
   "name": "python",
   "version": "3.11.9"
  }
 },
 "nbformat": 4,
 "nbformat_minor": 2
}
